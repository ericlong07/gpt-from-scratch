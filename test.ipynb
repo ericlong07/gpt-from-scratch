{
 "cells": [
  {
   "cell_type": "markdown",
   "metadata": {},
   "source": [
    "## Load weights of GPT-2"
   ]
  },
  {
   "cell_type": "code",
   "execution_count": 1,
   "metadata": {},
   "outputs": [
    {
     "name": "stderr",
     "output_type": "stream",
     "text": [
      "2024-09-30 20:47:36.548490: I tensorflow/core/platform/cpu_feature_guard.cc:193] This TensorFlow binary is optimized with oneAPI Deep Neural Network Library (oneDNN) to use the following CPU instructions in performance-critical operations:  AVX2 AVX512F AVX512_VNNI FMA\n",
      "To enable them in other operations, rebuild TensorFlow with the appropriate compiler flags.\n",
      "Fetching checkpoint: 1.00kb [00:00, 1.09Mb/s]                                                       \n",
      "Fetching encoder.json: 1.04Mb [00:00, 3.78Mb/s]                                                     \n",
      "Fetching hparams.json: 1.00kb [00:00, 2.50Mb/s]                                                     \n",
      "Fetching model.ckpt.data-00000-of-00001: 498Mb [05:25, 1.53Mb/s]                                    \n",
      "Fetching model.ckpt.index: 6.00kb [00:00, 13.3Mb/s]                                                 \n",
      "Fetching model.ckpt.meta: 472kb [00:00, 1.61Mb/s]                                                   \n",
      "Fetching vocab.bpe: 457kb [00:00, 5.47Mb/s]                                                         \n"
     ]
    }
   ],
   "source": [
    "from utils import load_encoder_hparams_and_params\n",
    "encoder, hparams, params = load_encoder_hparams_and_params(\"124M\", \"models\")"
   ]
  },
  {
   "cell_type": "markdown",
   "metadata": {},
   "source": [
    "## Encoder"
   ]
  },
  {
   "cell_type": "code",
   "execution_count": 3,
   "metadata": {},
   "outputs": [
    {
     "data": {
      "text/plain": [
       "[3673, 477, 10281, 5806, 1451, 274, 13]"
      ]
     },
     "execution_count": 3,
     "metadata": {},
     "output_type": "execute_result"
    }
   ],
   "source": [
    "ids = encoder.encode(\"Not all heroes wear capes.\")\n",
    "ids"
   ]
  },
  {
   "cell_type": "code",
   "execution_count": 4,
   "metadata": {},
   "outputs": [
    {
     "data": {
      "text/plain": [
       "'Not all heroes wear capes.'"
      ]
     },
     "execution_count": 4,
     "metadata": {},
     "output_type": "execute_result"
    }
   ],
   "source": [
    "encoder.decode(ids)"
   ]
  },
  {
   "cell_type": "code",
   "execution_count": 5,
   "metadata": {},
   "outputs": [
    {
     "data": {
      "text/plain": [
       "['Not', 'Ġall', 'Ġheroes', 'Ġwear', 'Ġcap', 'es', '.']"
      ]
     },
     "execution_count": 5,
     "metadata": {},
     "output_type": "execute_result"
    }
   ],
   "source": [
    "[encoder.decoder[i] for i in ids]"
   ]
  },
  {
   "cell_type": "code",
   "execution_count": 6,
   "metadata": {},
   "outputs": [
    {
     "data": {
      "text/plain": [
       "['z', 'j', 'q', 'fl']"
      ]
     },
     "execution_count": 6,
     "metadata": {},
     "output_type": "execute_result"
    }
   ],
   "source": [
    "[encoder.decoder[i] for i in encoder.encode(\"zjqfl\")]"
   ]
  },
  {
   "cell_type": "code",
   "execution_count": 7,
   "metadata": {},
   "outputs": [
    {
     "data": {
      "text/plain": [
       "50257"
      ]
     },
     "execution_count": 7,
     "metadata": {},
     "output_type": "execute_result"
    }
   ],
   "source": [
    "len(encoder.decoder)"
   ]
  },
  {
   "cell_type": "markdown",
   "metadata": {},
   "source": [
    "## Hyperparameters"
   ]
  },
  {
   "cell_type": "code",
   "execution_count": 8,
   "metadata": {},
   "outputs": [
    {
     "data": {
      "text/plain": [
       "{'n_vocab': 50257, 'n_ctx': 1024, 'n_embd': 768, 'n_head': 12, 'n_layer': 12}"
      ]
     },
     "execution_count": 8,
     "metadata": {},
     "output_type": "execute_result"
    }
   ],
   "source": [
    "hparams"
   ]
  },
  {
   "cell_type": "markdown",
   "metadata": {},
   "source": [
    "## Parameters"
   ]
  },
  {
   "cell_type": "code",
   "execution_count": 9,
   "metadata": {},
   "outputs": [
    {
     "name": "stdout",
     "output_type": "stream",
     "text": [
      "{'blocks': [{'attn': {'c_attn': {'b': [2304], 'w': [768, 2304]}, 'c_proj': {'b': [768], 'w': [768, 768]}}, 'ln_1': {'b': [768], 'g': [768]}, 'ln_2': {'b': [768], 'g': [768]}, 'mlp': {'c_fc': {'b': [3072], 'w': [768, 3072]}, 'c_proj': {'b': [768], 'w': [3072, 768]}}}, {'attn': {'c_attn': {'b': [2304], 'w': [768, 2304]}, 'c_proj': {'b': [768], 'w': [768, 768]}}, 'ln_1': {'b': [768], 'g': [768]}, 'ln_2': {'b': [768], 'g': [768]}, 'mlp': {'c_fc': {'b': [3072], 'w': [768, 3072]}, 'c_proj': {'b': [768], 'w': [3072, 768]}}}, {'attn': {'c_attn': {'b': [2304], 'w': [768, 2304]}, 'c_proj': {'b': [768], 'w': [768, 768]}}, 'ln_1': {'b': [768], 'g': [768]}, 'ln_2': {'b': [768], 'g': [768]}, 'mlp': {'c_fc': {'b': [3072], 'w': [768, 3072]}, 'c_proj': {'b': [768], 'w': [3072, 768]}}}, {'attn': {'c_attn': {'b': [2304], 'w': [768, 2304]}, 'c_proj': {'b': [768], 'w': [768, 768]}}, 'ln_1': {'b': [768], 'g': [768]}, 'ln_2': {'b': [768], 'g': [768]}, 'mlp': {'c_fc': {'b': [3072], 'w': [768, 3072]}, 'c_proj': {'b': [768], 'w': [3072, 768]}}}, {'attn': {'c_attn': {'b': [2304], 'w': [768, 2304]}, 'c_proj': {'b': [768], 'w': [768, 768]}}, 'ln_1': {'b': [768], 'g': [768]}, 'ln_2': {'b': [768], 'g': [768]}, 'mlp': {'c_fc': {'b': [3072], 'w': [768, 3072]}, 'c_proj': {'b': [768], 'w': [3072, 768]}}}, {'attn': {'c_attn': {'b': [2304], 'w': [768, 2304]}, 'c_proj': {'b': [768], 'w': [768, 768]}}, 'ln_1': {'b': [768], 'g': [768]}, 'ln_2': {'b': [768], 'g': [768]}, 'mlp': {'c_fc': {'b': [3072], 'w': [768, 3072]}, 'c_proj': {'b': [768], 'w': [3072, 768]}}}, {'attn': {'c_attn': {'b': [2304], 'w': [768, 2304]}, 'c_proj': {'b': [768], 'w': [768, 768]}}, 'ln_1': {'b': [768], 'g': [768]}, 'ln_2': {'b': [768], 'g': [768]}, 'mlp': {'c_fc': {'b': [3072], 'w': [768, 3072]}, 'c_proj': {'b': [768], 'w': [3072, 768]}}}, {'attn': {'c_attn': {'b': [2304], 'w': [768, 2304]}, 'c_proj': {'b': [768], 'w': [768, 768]}}, 'ln_1': {'b': [768], 'g': [768]}, 'ln_2': {'b': [768], 'g': [768]}, 'mlp': {'c_fc': {'b': [3072], 'w': [768, 3072]}, 'c_proj': {'b': [768], 'w': [3072, 768]}}}, {'attn': {'c_attn': {'b': [2304], 'w': [768, 2304]}, 'c_proj': {'b': [768], 'w': [768, 768]}}, 'ln_1': {'b': [768], 'g': [768]}, 'ln_2': {'b': [768], 'g': [768]}, 'mlp': {'c_fc': {'b': [3072], 'w': [768, 3072]}, 'c_proj': {'b': [768], 'w': [3072, 768]}}}, {'attn': {'c_attn': {'b': [2304], 'w': [768, 2304]}, 'c_proj': {'b': [768], 'w': [768, 768]}}, 'ln_1': {'b': [768], 'g': [768]}, 'ln_2': {'b': [768], 'g': [768]}, 'mlp': {'c_fc': {'b': [3072], 'w': [768, 3072]}, 'c_proj': {'b': [768], 'w': [3072, 768]}}}, {'attn': {'c_attn': {'b': [2304], 'w': [768, 2304]}, 'c_proj': {'b': [768], 'w': [768, 768]}}, 'ln_1': {'b': [768], 'g': [768]}, 'ln_2': {'b': [768], 'g': [768]}, 'mlp': {'c_fc': {'b': [3072], 'w': [768, 3072]}, 'c_proj': {'b': [768], 'w': [3072, 768]}}}, {'attn': {'c_attn': {'b': [2304], 'w': [768, 2304]}, 'c_proj': {'b': [768], 'w': [768, 768]}}, 'ln_1': {'b': [768], 'g': [768]}, 'ln_2': {'b': [768], 'g': [768]}, 'mlp': {'c_fc': {'b': [3072], 'w': [768, 3072]}, 'c_proj': {'b': [768], 'w': [3072, 768]}}}], 'ln_f': {'b': [768], 'g': [768]}, 'wpe': [1024, 768], 'wte': [50257, 768]}\n"
     ]
    }
   ],
   "source": [
    "import numpy as np\n",
    "def shape_tree(d):\n",
    "    if isinstance(d, np.ndarray):\n",
    "        return list(d.shape)\n",
    "    elif isinstance(d, list):\n",
    "        return [shape_tree(v) for v in d]\n",
    "    elif isinstance(d, dict):\n",
    "        return {k: shape_tree(v) for k, v in d.items()}\n",
    "    else:\n",
    "        ValueError(\"uh oh\")\n",
    "print(shape_tree(params))"
   ]
  },
  {
   "cell_type": "code",
   "execution_count": 10,
   "metadata": {},
   "outputs": [
    {
     "name": "stdout",
     "output_type": "stream",
     "text": [
      "model/h0/attn/c_attn/b: (2304,)\n",
      "model/h0/attn/c_attn/w: (768, 2304)\n",
      "model/h0/attn/c_proj/b: (768,)\n",
      "model/h0/attn/c_proj/w: (768, 768)\n",
      "model/h0/ln_1/b: (768,)\n",
      "model/h0/ln_1/g: (768,)\n",
      "model/h0/ln_2/b: (768,)\n",
      "model/h0/ln_2/g: (768,)\n",
      "model/h0/mlp/c_fc/b: (3072,)\n",
      "model/h0/mlp/c_fc/w: (768, 3072)\n",
      "model/h0/mlp/c_proj/b: (768,)\n",
      "model/h0/mlp/c_proj/w: (3072, 768)\n",
      "model/h1/attn/c_attn/b: (2304,)\n",
      "model/h1/attn/c_attn/w: (768, 2304)\n",
      "model/h1/attn/c_proj/b: (768,)\n",
      "model/h1/attn/c_proj/w: (768, 768)\n",
      "model/h1/ln_1/b: (768,)\n",
      "model/h1/ln_1/g: (768,)\n",
      "model/h1/ln_2/b: (768,)\n",
      "model/h1/ln_2/g: (768,)\n",
      "model/h1/mlp/c_fc/b: (3072,)\n",
      "model/h1/mlp/c_fc/w: (768, 3072)\n",
      "model/h1/mlp/c_proj/b: (768,)\n",
      "model/h1/mlp/c_proj/w: (3072, 768)\n",
      "model/h10/attn/c_attn/b: (2304,)\n",
      "model/h10/attn/c_attn/w: (768, 2304)\n",
      "model/h10/attn/c_proj/b: (768,)\n",
      "model/h10/attn/c_proj/w: (768, 768)\n",
      "model/h10/ln_1/b: (768,)\n",
      "model/h10/ln_1/g: (768,)\n",
      "model/h10/ln_2/b: (768,)\n",
      "model/h10/ln_2/g: (768,)\n",
      "model/h10/mlp/c_fc/b: (3072,)\n",
      "model/h10/mlp/c_fc/w: (768, 3072)\n",
      "model/h10/mlp/c_proj/b: (768,)\n",
      "model/h10/mlp/c_proj/w: (3072, 768)\n",
      "model/h11/attn/c_attn/b: (2304,)\n",
      "model/h11/attn/c_attn/w: (768, 2304)\n",
      "model/h11/attn/c_proj/b: (768,)\n",
      "model/h11/attn/c_proj/w: (768, 768)\n",
      "model/h11/ln_1/b: (768,)\n",
      "model/h11/ln_1/g: (768,)\n",
      "model/h11/ln_2/b: (768,)\n",
      "model/h11/ln_2/g: (768,)\n",
      "model/h11/mlp/c_fc/b: (3072,)\n",
      "model/h11/mlp/c_fc/w: (768, 3072)\n",
      "model/h11/mlp/c_proj/b: (768,)\n",
      "model/h11/mlp/c_proj/w: (3072, 768)\n",
      "model/h2/attn/c_attn/b: (2304,)\n",
      "model/h2/attn/c_attn/w: (768, 2304)\n",
      "model/h2/attn/c_proj/b: (768,)\n",
      "model/h2/attn/c_proj/w: (768, 768)\n",
      "model/h2/ln_1/b: (768,)\n",
      "model/h2/ln_1/g: (768,)\n",
      "model/h2/ln_2/b: (768,)\n",
      "model/h2/ln_2/g: (768,)\n",
      "model/h2/mlp/c_fc/b: (3072,)\n",
      "model/h2/mlp/c_fc/w: (768, 3072)\n",
      "model/h2/mlp/c_proj/b: (768,)\n",
      "model/h2/mlp/c_proj/w: (3072, 768)\n",
      "model/h3/attn/c_attn/b: (2304,)\n",
      "model/h3/attn/c_attn/w: (768, 2304)\n",
      "model/h3/attn/c_proj/b: (768,)\n",
      "model/h3/attn/c_proj/w: (768, 768)\n",
      "model/h3/ln_1/b: (768,)\n",
      "model/h3/ln_1/g: (768,)\n",
      "model/h3/ln_2/b: (768,)\n",
      "model/h3/ln_2/g: (768,)\n",
      "model/h3/mlp/c_fc/b: (3072,)\n",
      "model/h3/mlp/c_fc/w: (768, 3072)\n",
      "model/h3/mlp/c_proj/b: (768,)\n",
      "model/h3/mlp/c_proj/w: (3072, 768)\n",
      "model/h4/attn/c_attn/b: (2304,)\n",
      "model/h4/attn/c_attn/w: (768, 2304)\n",
      "model/h4/attn/c_proj/b: (768,)\n",
      "model/h4/attn/c_proj/w: (768, 768)\n",
      "model/h4/ln_1/b: (768,)\n",
      "model/h4/ln_1/g: (768,)\n",
      "model/h4/ln_2/b: (768,)\n",
      "model/h4/ln_2/g: (768,)\n",
      "model/h4/mlp/c_fc/b: (3072,)\n",
      "model/h4/mlp/c_fc/w: (768, 3072)\n",
      "model/h4/mlp/c_proj/b: (768,)\n",
      "model/h4/mlp/c_proj/w: (3072, 768)\n",
      "model/h5/attn/c_attn/b: (2304,)\n",
      "model/h5/attn/c_attn/w: (768, 2304)\n",
      "model/h5/attn/c_proj/b: (768,)\n",
      "model/h5/attn/c_proj/w: (768, 768)\n",
      "model/h5/ln_1/b: (768,)\n",
      "model/h5/ln_1/g: (768,)\n",
      "model/h5/ln_2/b: (768,)\n",
      "model/h5/ln_2/g: (768,)\n",
      "model/h5/mlp/c_fc/b: (3072,)\n",
      "model/h5/mlp/c_fc/w: (768, 3072)\n",
      "model/h5/mlp/c_proj/b: (768,)\n",
      "model/h5/mlp/c_proj/w: (3072, 768)\n",
      "model/h6/attn/c_attn/b: (2304,)\n",
      "model/h6/attn/c_attn/w: (768, 2304)\n",
      "model/h6/attn/c_proj/b: (768,)\n",
      "model/h6/attn/c_proj/w: (768, 768)\n",
      "model/h6/ln_1/b: (768,)\n",
      "model/h6/ln_1/g: (768,)\n",
      "model/h6/ln_2/b: (768,)\n",
      "model/h6/ln_2/g: (768,)\n",
      "model/h6/mlp/c_fc/b: (3072,)\n",
      "model/h6/mlp/c_fc/w: (768, 3072)\n",
      "model/h6/mlp/c_proj/b: (768,)\n",
      "model/h6/mlp/c_proj/w: (3072, 768)\n",
      "model/h7/attn/c_attn/b: (2304,)\n",
      "model/h7/attn/c_attn/w: (768, 2304)\n",
      "model/h7/attn/c_proj/b: (768,)\n",
      "model/h7/attn/c_proj/w: (768, 768)\n",
      "model/h7/ln_1/b: (768,)\n",
      "model/h7/ln_1/g: (768,)\n",
      "model/h7/ln_2/b: (768,)\n",
      "model/h7/ln_2/g: (768,)\n",
      "model/h7/mlp/c_fc/b: (3072,)\n",
      "model/h7/mlp/c_fc/w: (768, 3072)\n",
      "model/h7/mlp/c_proj/b: (768,)\n",
      "model/h7/mlp/c_proj/w: (3072, 768)\n",
      "model/h8/attn/c_attn/b: (2304,)\n",
      "model/h8/attn/c_attn/w: (768, 2304)\n",
      "model/h8/attn/c_proj/b: (768,)\n",
      "model/h8/attn/c_proj/w: (768, 768)\n",
      "model/h8/ln_1/b: (768,)\n",
      "model/h8/ln_1/g: (768,)\n",
      "model/h8/ln_2/b: (768,)\n",
      "model/h8/ln_2/g: (768,)\n",
      "model/h8/mlp/c_fc/b: (3072,)\n",
      "model/h8/mlp/c_fc/w: (768, 3072)\n",
      "model/h8/mlp/c_proj/b: (768,)\n",
      "model/h8/mlp/c_proj/w: (3072, 768)\n",
      "model/h9/attn/c_attn/b: (2304,)\n",
      "model/h9/attn/c_attn/w: (768, 2304)\n",
      "model/h9/attn/c_proj/b: (768,)\n",
      "model/h9/attn/c_proj/w: (768, 768)\n",
      "model/h9/ln_1/b: (768,)\n",
      "model/h9/ln_1/g: (768,)\n",
      "model/h9/ln_2/b: (768,)\n",
      "model/h9/ln_2/g: (768,)\n",
      "model/h9/mlp/c_fc/b: (3072,)\n",
      "model/h9/mlp/c_fc/w: (768, 3072)\n",
      "model/h9/mlp/c_proj/b: (768,)\n",
      "model/h9/mlp/c_proj/w: (3072, 768)\n",
      "model/ln_f/b: (768,)\n",
      "model/ln_f/g: (768,)\n",
      "model/wpe: (1024, 768)\n",
      "model/wte: (50257, 768)\n"
     ]
    }
   ],
   "source": [
    "import tensorflow as tf\n",
    "tf_ckpt_path = tf.train.latest_checkpoint(\"models/124M\")\n",
    "for name, _ in tf.train.list_variables(tf_ckpt_path):\n",
    "    arr = tf.train.load_variable(tf_ckpt_path, name).squeeze()\n",
    "    print(f\"{name}: {arr.shape}\")"
   ]
  },
  {
   "cell_type": "markdown",
   "metadata": {},
   "source": [
    "## GELU activation function "
   ]
  },
  {
   "cell_type": "code",
   "execution_count": 11,
   "metadata": {},
   "outputs": [
    {
     "data": {
      "text/plain": [
       "array([[ 0.84119199,  1.95459769],\n",
       "       [-0.04540231,  0.34571401]])"
      ]
     },
     "execution_count": 11,
     "metadata": {},
     "output_type": "execute_result"
    }
   ],
   "source": [
    "def gelu(x):\n",
    "    return 0.5 * x * (1 + np.tanh(np.sqrt(2 / np.pi) * (x + 0.044715 * x**3)))\n",
    "\n",
    "gelu(np.array([[1, 2], [-2, 0.5]]))"
   ]
  },
  {
   "cell_type": "markdown",
   "metadata": {},
   "source": [
    "## Softmax"
   ]
  },
  {
   "cell_type": "code",
   "execution_count": 13,
   "metadata": {},
   "outputs": [
    {
     "name": "stdout",
     "output_type": "stream",
     "text": [
      "[[2.74878501e-43 1.00000000e+00]\n",
      " [6.69285092e-03 9.93307149e-01]]\n",
      "[1. 1.]\n"
     ]
    }
   ],
   "source": [
    "def softmax(x):\n",
    "    exp_x = np.exp(x - np.max(x, axis=-1, keepdims=True))\n",
    "    return exp_x / np.sum(exp_x, axis=-1, keepdims=True)\n",
    "\n",
    "x = softmax(np.array([[2, 100], [-5, 0]]))\n",
    "print(x)\n",
    "print(x.sum(axis=-1))"
   ]
  },
  {
   "cell_type": "markdown",
   "metadata": {},
   "source": [
    "## Layer normalization"
   ]
  },
  {
   "cell_type": "code",
   "execution_count": 14,
   "metadata": {},
   "outputs": [
    {
     "name": "stdout",
     "output_type": "stream",
     "text": [
      "[[-0.70709087 -0.70709087  1.41418174]\n",
      " [-1.39700038  0.50800014  0.88900024]]\n",
      "[0.999955   0.99999855]\n",
      "[-2.96059473e-16 -3.70074342e-17]\n"
     ]
    }
   ],
   "source": [
    "def layer_norm(x, g, b, eps: float = 1e-5):\n",
    "    mean = np.mean(x, axis=-1, keepdims=True)\n",
    "    variance = np.var(x, axis=-1, keepdims=True)\n",
    "    x = (x - mean) / np.sqrt(variance + eps)  # normalize x to have mean=0 and var=1 over last axis\n",
    "    return g * x + b  # scale and offset with gamma/beta params\n",
    "\n",
    "x = np.array([[2, 2, 3], [-5, 0, 1]])\n",
    "x = layer_norm(x, g=np.ones(x.shape[-1]), b=np.zeros(x.shape[-1]))\n",
    "print(x)\n",
    "print(x.var(axis=-1))\n",
    "print(x.mean(axis=-1))"
   ]
  },
  {
   "cell_type": "markdown",
   "metadata": {},
   "source": [
    "## Linear (standard matrix multiplication + bias)"
   ]
  },
  {
   "cell_type": "code",
   "execution_count": 17,
   "metadata": {},
   "outputs": [
    {
     "name": "stdout",
     "output_type": "stream",
     "text": [
      "(64, 784)\n",
      "(64, 10)\n"
     ]
    }
   ],
   "source": [
    "def linear(x, w, b):  # [m, in], [in, out], [out] -> [m, out]\n",
    "    return x @ w + b\n",
    "\n",
    "x = np.random.normal(size=(64, 784)) # input dim = 784, batch/sequence dim = 64\n",
    "w = np.random.normal(size=(784, 10)) # output dim = 10\n",
    "b = np.random.normal(size=(10,))\n",
    "print(x.shape) # shape before linear projection\n",
    "print(linear(x, w, b).shape) # shape after linear projection"
   ]
  },
  {
   "cell_type": "code",
   "execution_count": null,
   "metadata": {},
   "outputs": [],
   "source": []
  }
 ],
 "metadata": {
  "kernelspec": {
   "display_name": "gpt",
   "language": "python",
   "name": "python3"
  },
  "language_info": {
   "codemirror_mode": {
    "name": "ipython",
    "version": 3
   },
   "file_extension": ".py",
   "mimetype": "text/x-python",
   "name": "python",
   "nbconvert_exporter": "python",
   "pygments_lexer": "ipython3",
   "version": "3.10.5"
  }
 },
 "nbformat": 4,
 "nbformat_minor": 2
}
